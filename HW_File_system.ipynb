{
 "cells": [
  {
   "cell_type": "code",
   "execution_count": 2,
   "metadata": {},
   "outputs": [],
   "source": [
    "import json"
   ]
  },
  {
   "cell_type": "code",
   "execution_count": null,
   "metadata": {},
   "outputs": [],
   "source": [
    "#with open ('purchase_log.txt', 'r', encoding='utf-8') as x:\n",
    "#    x.readline()\n",
    "#    for line in x:\n",
    "#        line = line.strip() #переводим элементы purches_log в список без переносов\n",
    "#       purchases_dicts = json.loads(line) #переводим элементы списка в формат словаря\n",
    "#        purchases={purchases_dicts['user_id']: purchases_dicts['category']}\n",
    "        #Создаем словаь, где ключи будут значения словаря purchases_dicts по ключу user_id, а значения  - значения словаря purchases_dicts по ключу category\n",
    "        #print(purchases)"
   ]
  },
  {
   "cell_type": "code",
   "execution_count": 3,
   "metadata": {},
   "outputs": [],
   "source": [
    "with open ('purchase_log.txt', 'r', encoding='utf-8') as x:\n",
    "    purchases = {}\n",
    "    for line in x:\n",
    "        line = line.strip() #переводим элементы purches_log в список без переносов\n",
    "        purchases_dicts = json.loads(line) #переводим элементы списка в формат словаря\n",
    "        purchases[purchases_dicts['user_id']] = purchases_dicts['category']"
   ]
  },
  {
   "cell_type": "code",
   "execution_count": 4,
   "metadata": {},
   "outputs": [],
   "source": [
    "with open('visit_log.csv', 'r') as y:\n",
    "    with open('funnel.csv', 'w') as work_file:\n",
    "        for el in y:\n",
    "            line = el.strip().split(',')\n",
    "            if line[0] in purchases.keys():\n",
    "                line.append(purchases[line[0]])\n",
    "                work_file.write(','.join(line))\n",
    "            "
   ]
  }
 ],
 "metadata": {
  "kernelspec": {
   "display_name": "Python 3",
   "language": "python",
   "name": "python3"
  },
  "language_info": {
   "codemirror_mode": {
    "name": "ipython",
    "version": 3
   },
   "file_extension": ".py",
   "mimetype": "text/x-python",
   "name": "python",
   "nbconvert_exporter": "python",
   "pygments_lexer": "ipython3",
   "version": "3.8.5"
  }
 },
 "nbformat": 4,
 "nbformat_minor": 4
}
