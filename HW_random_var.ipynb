{
 "cells": [
  {
   "cell_type": "code",
   "execution_count": 156,
   "metadata": {},
   "outputs": [
    {
     "name": "stdout",
     "output_type": "stream",
     "text": [
      "804449\n"
     ]
    }
   ],
   "source": [
    "import numpy as np\n",
    "#Создадим словарь, где ключами будут сумма выигрыша, а значениями - число, при выпадении которого наступает выигрыш\n",
    "wins_dict = {}\n",
    "wins_dict[200]=[777]\n",
    "wins_dict[100]=[999]\n",
    "wins_dict[50]=[555]\n",
    "wins_dict[15]=[333]\n",
    "wins_dict[10]=[111]\n",
    "\n",
    "win_77 = []\n",
    "for i in range(1000):\n",
    "    if i != 777 and i % 100 == 77:\n",
    "        win_77.append(i)\n",
    "wins_dict[5] = vin_77\n",
    "\n",
    "win_7 = []\n",
    "for i in range(1000):\n",
    "    if i%100 != 77 and i % 10 == 7:\n",
    "        win_7.append(i)\n",
    "wins_dict[3] = vin_7\n",
    "\n",
    "win_00 = []\n",
    "for i in range(1000):\n",
    "    if i % 100 == 0:\n",
    "        win_00.append(i)\n",
    "wins_dict[2] = vin_00\n",
    "\n",
    "win_0 = []\n",
    "for i in range(1000):\n",
    "    if i%100 != 0 and i % 10 == 0:\n",
    "        win_0.append(i)\n",
    "wins_dict[1] = vin_0"
   ]
  },
  {
   "cell_type": "code",
   "execution_count": 161,
   "metadata": {},
   "outputs": [
    {
     "name": "stdout",
     "output_type": "stream",
     "text": [
      "0.204\n"
     ]
    }
   ],
   "source": [
    "# Рассчитаем вероятность выигрыша на таком аппарате\n",
    "win_list = [] \n",
    "for wins in wins_dict.values():\n",
    "    win_list += list(wins) #создаем лист с возможными выигрышами\n",
    "\n",
    "#Рассчитаем вероятность выигрыша\n",
    "P = len(win_list)/len(range(1000))\n",
    "print(P)"
   ]
  },
  {
   "cell_type": "code",
   "execution_count": 162,
   "metadata": {},
   "outputs": [
    {
     "name": "stdout",
     "output_type": "stream",
     "text": [
      "0.204096\n"
     ]
    }
   ],
   "source": [
    "#Смоделируем игру и проверим получившуюся вероятность\n",
    "trials = 10000000   # Количество попыток\n",
    "successes = 0    # Количество успехов\n",
    "\n",
    "for i in range(trials):\n",
    "    random_score = np.random.randint(1000)    # Случайное значение от 0 до 999\n",
    "    if random_score in vin_list:\n",
    "        successes += 1\n",
    "        \n",
    "p_model = successes / trials    # Вероятность из моделирования\n",
    "print(p_model)\n",
    "# Вероятность выигрыша составляет всего 20%"
   ]
  },
  {
   "cell_type": "code",
   "execution_count": 163,
   "metadata": {},
   "outputs": [
    {
     "name": "stdout",
     "output_type": "stream",
     "text": [
      "0.20454609999999995\n"
     ]
    }
   ],
   "source": [
    "# Рассчитаем сколько в среднем приобретает или теряет игрок за одну игру\n",
    "trials = 10000000    # Количество попыток\n",
    "win_score = 0    # Сумма выигрыша\n",
    "\n",
    "for i in range(trials):\n",
    "    random_score = np.random.randint(1000)    # Случайное значение от 0 до 999\n",
    "    for key, value in wins_dict.items():\n",
    "        if random_score in value:\n",
    "            win_score += int(key)\n",
    "\n",
    "losing = 1*(1-win_score/trials)\n",
    "print(losing)\n",
    "#В среднем игрок теряет 0,2 коп за игру"
   ]
  }
 ],
 "metadata": {
  "kernelspec": {
   "display_name": "Python 3",
   "language": "python",
   "name": "python3"
  },
  "language_info": {
   "codemirror_mode": {
    "name": "ipython",
    "version": 3
   },
   "file_extension": ".py",
   "mimetype": "text/x-python",
   "name": "python",
   "nbconvert_exporter": "python",
   "pygments_lexer": "ipython3",
   "version": "3.8.5"
  }
 },
 "nbformat": 4,
 "nbformat_minor": 4
}
