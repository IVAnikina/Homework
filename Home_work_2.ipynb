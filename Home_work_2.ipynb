{
 "cells": [
  {
   "cell_type": "code",
   "execution_count": null,
   "metadata": {},
   "outputs": [],
   "source": [
    "### Home_work_2 Управляющие конструкции и коллекции"
   ]
  },
  {
   "cell_type": "code",
   "execution_count": null,
   "metadata": {},
   "outputs": [],
   "source": [
    "### Задание 1\n",
    "word = 'hell'\n",
    "if len(word)%2==0:\n",
    "    print (word[len(word)//2 - 1], word[len(word)//2])\n",
    "else:\n",
    "    print (word[len(word)//2])"
   ]
  },
  {
   "cell_type": "code",
   "execution_count": 47,
   "metadata": {},
   "outputs": [
    {
     "name": "stdout",
     "output_type": "stream",
     "text": [
      "Введите число: 3\n",
      "Введите число: 4\n",
      "Введите число: 0\n",
      "7\n"
     ]
    }
   ],
   "source": [
    "### Задание 2\n",
    "x = int(input('Введите число: '))\n",
    "i = int(0)\n",
    "while x != 0:\n",
    "    i += x\n",
    "    x = int(input('Введите число: '))\n",
    "print  (i)"
   ]
  },
  {
   "cell_type": "code",
   "execution_count": 70,
   "metadata": {},
   "outputs": [
    {
     "name": "stdout",
     "output_type": "stream",
     "text": [
      "Идеальные пары: \n",
      "Alex  и  Emma\n",
      "Arthur  и  Kate\n",
      "John  и  Kira\n",
      "Peter  и  Liza\n",
      "Richard  и  Trisha\n"
     ]
    }
   ],
   "source": [
    "### Задание 3\n",
    "boys = ['Peter', 'Alex', 'John', 'Arthur', 'Richard']\n",
    "girls = ['Kate', 'Liza', 'Kira', 'Emma', 'Trisha']\n",
    "if len (boys) == len (girls):\n",
    "    sorted_boys = sorted (boys)\n",
    "    sorted_girls = sorted (girls)\n",
    "    perfect_pair = zip(sorted_boys, sorted_girls)\n",
    "    print ('Идеальные пары: ')\n",
    "    for i in perfect_pair:\n",
    "        print(i[0], ' и ', i[1])\n",
    "else:\n",
    "    print ('Внимание, кто-то может остаться без пары!')"
   ]
  },
  {
   "cell_type": "code",
   "execution_count": 72,
   "metadata": {},
   "outputs": [
    {
     "name": "stdout",
     "output_type": "stream",
     "text": [
      "Средняя температура в странах: \n",
      "Thailand  -  23.9 C\n",
      "Germany  -  13.8 C\n",
      "Russia  -  3.7 C\n",
      "Poland  -  12.0 C\n"
     ]
    }
   ],
   "source": [
    "### Задание 4\n",
    "countries_temperature = [\n",
    "['Thailand', [75.2, 77, 78.8, 73.4, 68, 75.2, 77]],\n",
    "['Germany', [57.2, 55.4, 59, 59, 53.6]],\n",
    "['Russia', [35.6, 37.4, 39.2, 41, 42.8, 39.2, 35.6]],\n",
    "['Poland', [50, 50, 53.6, 57.2, 55.4, 55.4]]\n",
    "]\n",
    "print ('Средняя температура в странах: ')\n",
    "for average_t in countries_temperature:\n",
    "    print (average_t[0], ' - ', round((sum (average_t[1])/len(average_t[1])-32)*5/9, 1), 'C') "
   ]
  },
  {
   "cell_type": "code",
   "execution_count": 160,
   "metadata": {},
   "outputs": [
    {
     "name": "stdout",
     "output_type": "stream",
     "text": [
      "23.25\n"
     ]
    }
   ],
   "source": [
    "stream = [\n",
    "'2018-01-01,user1,3',\n",
    "'2018-01-07,user1,4',\n",
    "'2018-03-29,user1,1',\n",
    "'2018-04-04,user1,13',\n",
    "'2018-01-05,user2,7',\n",
    "'2018-06-14,user3,4',\n",
    "'2018-07-02,user3,10',\n",
    "'2018-03-21,user4,19',\n",
    "'2018-03-22,user4,4',\n",
    "'2018-04-22,user4,8',\n",
    "'2018-05-03,user4,9',\n",
    "'2018-05-11,user4,11',\n",
    "] \n",
    "views = []\n",
    "user_list = []\n",
    "unique_user_list = []\n",
    "for i in stream:\n",
    "    list_stream = i.split(',')\n",
    "    views.append (int(list_stream[2]))\n",
    "    user_list.append (list_stream[1])\n",
    "unique_users=[]\n",
    "for i in user_list:\n",
    "    if i not in unique_users:\n",
    "        unique_users.append(i)\n",
    "    \n",
    "print (sum(views)/len(unique_users))\n"
   ]
  },
  {
   "cell_type": "code",
   "execution_count": 175,
   "metadata": {},
   "outputs": [
    {
     "name": "stdout",
     "output_type": "stream",
     "text": [
      "Введите числа через пробел: 1 1 1 2 2 3\n",
      "[1, 2, 3]\n"
     ]
    }
   ],
   "source": [
    "## Задание 6\n",
    "numbers=[]\n",
    "x = input(\"Введите числа через пробел: \")\n",
    "numbers.append(x) \n",
    "number_string = ' '.join(numbers)\n",
    "number_list = number_string.split(' ')\n",
    "unique_numbers = []\n",
    "for i in number_list:\n",
    "    if int(i) not in unique_numbers:\n",
    "        unique_numbers.append(int(i))\n",
    "        \n",
    "print (unique_numbers)\n"
   ]
  }
 ],
 "metadata": {
  "kernelspec": {
   "display_name": "Python 3",
   "language": "python",
   "name": "python3"
  },
  "language_info": {
   "codemirror_mode": {
    "name": "ipython",
    "version": 3
   },
   "file_extension": ".py",
   "mimetype": "text/x-python",
   "name": "python",
   "nbconvert_exporter": "python",
   "pygments_lexer": "ipython3",
   "version": "3.8.5"
  }
 },
 "nbformat": 4,
 "nbformat_minor": 4
}
