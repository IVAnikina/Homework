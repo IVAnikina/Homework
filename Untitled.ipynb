{
 "cells": [
  {
   "cell_type": "code",
   "execution_count": 6,
   "metadata": {},
   "outputs": [
    {
     "name": "stdout",
     "output_type": "stream",
     "text": [
      "Фраза 1 длиннее фразы 2\n"
     ]
    }
   ],
   "source": [
    "### Задание 1.1\n",
    "phrase_1 = 'Насколько проще было бы писать программы, если бы не заказчики'\n",
    "phrase_2 = '640Кб должно хватить для любых задач. Билл Гейтс (по легенде)'\n",
    "if len (phrase_1) > len (phrase_2):\n",
    "    print ('Фраза 1 длиннее фразы 2')\n"
   ]
  },
  {
   "cell_type": "code",
   "execution_count": 8,
   "metadata": {},
   "outputs": [
    {
     "name": "stdout",
     "output_type": "stream",
     "text": [
      "Фраза 2 длиннее фразы 1\n"
     ]
    }
   ],
   "source": [
    "### Задание 1.2\n",
    "phrase_1 = '640Кб должно хватить для любых задач. Билл Гейтс (по легенде)'\n",
    "phrase_2 = 'Насколько проще было бы писать программы, если бы не заказчики'\n",
    "if len (phrase_1) < len (phrase_2):\n",
    "    print ('Фраза 2 длиннее фразы 1')"
   ]
  },
  {
   "cell_type": "code",
   "execution_count": 10,
   "metadata": {},
   "outputs": [
    {
     "name": "stdout",
     "output_type": "stream",
     "text": [
      "Фразы равной длины\n"
     ]
    }
   ],
   "source": [
    "### Задание 1.3\n",
    "phrase_1 = 'Насколько проще было бы писать программы, если бы не заказчики'\n",
    "phrase_2 = 'Насколько проще было бы писать программы, если бы не заказчики'\n",
    "if len (phrase_1) == len (phrase_2):\n",
    "    print ('Фразы равной длины')"
   ]
  },
  {
   "cell_type": "code",
   "execution_count": 21,
   "metadata": {},
   "outputs": [
    {
     "name": "stdout",
     "output_type": "stream",
     "text": [
      "Введите год 2020\n",
      "Високосный год\n"
     ]
    }
   ],
   "source": [
    "### Задание 2\n",
    "Year = int (input ('Введите год '))\n",
    "if Year % 4 == 0:\n",
    "    print ('Високосный год')\n",
    "else:\n",
    "    print ('Обычный год')"
   ]
  },
  {
   "cell_type": "code",
   "execution_count": 37,
   "metadata": {},
   "outputs": [
    {
     "name": "stdout",
     "output_type": "stream",
     "text": [
      "Дата рождения 5\n",
      "Месяц рождения Август\n",
      "Ваш знак зодиака: Лев\n"
     ]
    }
   ],
   "source": [
    "### Задание 3\n",
    "Date = int (input ('Дата рождения '))\n",
    "Month = input ('Месяц рождения ')\n",
    "if Date >= 21 and Month == ('Март') or Date <= 19 and Month == ('Апрель'):\n",
    "    print ('Ваш знак зодиака: Овен')\n",
    "elif Date >= 20 and Month == ('Апрель') or Date <= 20 and Month == ('Май'):\n",
    "    print ('Ваш знак зодиака: Телец')\n",
    "elif Date >= 21 and Month == ('Май') or Date <= 21 and Month == ('Июнь'):\n",
    "    print ('Ваш знак зодиака: Близнец')\n",
    "elif Date >= 22 and Month == ('Июнь') or Date <= 22 and Month == ('Июль'):\n",
    "    print ('Ваш знак зодиака: Рак')\n",
    "elif Date >= 23 and Month == ('Июль') or Date <= 22 and Month == ('Август'):\n",
    "    print ('Ваш знак зодиака: Лев')\n",
    "elif Date >= 23 and Month == ('Август') or Date <= 22 and Month == ('Сентябрь'):\n",
    "    print ('Ваш знак зодиака: Дева')\n",
    "elif Date >= 23 and Month == ('Сентябрь') or Date <= 23 and Month == ('Октябрь'):\n",
    "    print ('Ваш знак зодиака: Весы')\n",
    "elif Date >= 24 and Month == ('Октябрь') or Date <= 22 and Month == ('Ноябрь'):\n",
    "    print ('Ваш знак зодиака: Скорпион')\n",
    "elif Date >= 23 and Month == ('Ноябрь') or Date <= 21 and Month == ('Декабрь'):\n",
    "    print ('Ваш знак зодиака: Стрелец')\n",
    "elif Date >= 22 and Month == ('Декабрь') or Date <= 20 and Month == ('Январь'):\n",
    "    print ('Ваш знак зодиака: Козерог')\n",
    "elif Date >= 21 and Month == ('Январь') or Date <= 18 and Month == ('Февраль'):\n",
    "    print ('Ваш знак зодиака: Водолей')\n",
    "elif Date >= 19 and Month == ('Февраль') or Date <= 20 and Month == ('Март'):\n",
    "    print ('Ваш знак зодиака: Рыба')"
   ]
  },
  {
   "cell_type": "code",
   "execution_count": 69,
   "metadata": {},
   "outputs": [
    {
     "name": "stdout",
     "output_type": "stream",
     "text": [
      "Стандартная коробка №3\n"
     ]
    }
   ],
   "source": [
    "### Задание 4\n",
    "width = 10\n",
    "length = 160\n",
    "height = 70\n",
    "if width < 15 and length <15 and height <15:\n",
    "    print ('Коробка №1')\n",
    "elif width >= 15 and width <= 50 or length >= 15 and length <= 50 or height >= 15 and height <= 50:\n",
    "    print ('Коробка №2')\n",
    "elif length > 200:\n",
    "    print ('Упаковка для лыж')\n",
    "else:\n",
    "    print ('Стандартная коробка №3')"
   ]
  },
  {
   "cell_type": "code",
   "execution_count": 81,
   "metadata": {},
   "outputs": [
    {
     "name": "stdout",
     "output_type": "stream",
     "text": [
      "Номер билета: 123123\n",
      "Cчастливый билет\n"
     ]
    }
   ],
   "source": [
    "### Задание 5\n",
    "number = input('Номер билета: ')\n",
    "if int (number [0])+ int (number [1])+ int (number [2]) == int (number [3])+ int (number [4])+ int (number [5]):\n",
    "    print ('Cчастливый билет')\n",
    "else:\n",
    "    print ('Неасчастливый билет')\n"
   ]
  },
  {
   "cell_type": "code",
   "execution_count": 71,
   "metadata": {
    "scrolled": true
   },
   "outputs": [
    {
     "name": "stdout",
     "output_type": "stream",
     "text": [
      "Фигура: Круг\n",
      "Радиус: 10\n",
      "Площадь круга:  314.1592653589793\n"
     ]
    }
   ],
   "source": [
    "### Задание 6\n",
    "Figure = input ('Фигура: ')\n",
    "if Figure == ('Круг'):\n",
    "    Radius = float (input ('Радиус: '))\n",
    "    print ('Площадь круга: ' , 3.141592653589793 * Radius ** 2)\n",
    "elif Figure == ('Треугольник'):\n",
    "    A = float (input ('Введите длину стороны A: '))\n",
    "    B = float (input ('Введите длину стороны B: '))\n",
    "    C = float (input ('Введите длину стороны C: '))\n",
    "    P = (A + B + C)/2\n",
    "    print ('Площадь треуголника: ' , (P * (P-A)*(P-B)*(P-C))**0.5)\n",
    "elif Figure == ('Прямоугольник'):\n",
    "    A = float (input ('Введите длину стороны A: '))\n",
    "    B = float (input ('Введите длину стороны B: '))\n",
    "    print ('Площадь прямоугольника: ' , A*B)\n",
    "    "
   ]
  },
  {
   "cell_type": "code",
   "execution_count": null,
   "metadata": {},
   "outputs": [],
   "source": []
  }
 ],
 "metadata": {
  "kernelspec": {
   "display_name": "Python 3",
   "language": "python",
   "name": "python3"
  },
  "language_info": {
   "codemirror_mode": {
    "name": "ipython",
    "version": 3
   },
   "file_extension": ".py",
   "mimetype": "text/x-python",
   "name": "python",
   "nbconvert_exporter": "python",
   "pygments_lexer": "ipython3",
   "version": "3.8.5"
  }
 },
 "nbformat": 4,
 "nbformat_minor": 4
}
