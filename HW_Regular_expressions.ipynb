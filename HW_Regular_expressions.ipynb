{
 "cells": [
  {
   "cell_type": "code",
   "execution_count": 8,
   "metadata": {},
   "outputs": [],
   "source": [
    "import re"
   ]
  },
  {
   "cell_type": "code",
   "execution_count": 77,
   "metadata": {},
   "outputs": [],
   "source": [
    "###Задание 1\n",
    "def check_car_number(car_id):\n",
    "    car_number = re.findall(r'^[а,в,е,к,м,н,о,р,с,т,у,х]\\d{3}[а,в,е,к,м,н,о,р,с,т,у,х]{2}\\d{2,3}', car_id)\n",
    "    region = re.findall(r'(?<=\\d{3}[а,в,е,к,м,н,о,р,с,т,у,х]{2})\\d{2,3}', car_id)\n",
    "    if car_number == []:\n",
    "        print('Номер не валиден')\n",
    "    else:   \n",
    "        print(f'Номер {car_number[0]} валиден. Регион: {region[0]}')"
   ]
  },
  {
   "cell_type": "code",
   "execution_count": 79,
   "metadata": {},
   "outputs": [
    {
     "name": "stdout",
     "output_type": "stream",
     "text": [
      "Номер а123ан69 валиден. Регион: 69\n"
     ]
    }
   ],
   "source": [
    "check_car_number('а123ан69')"
   ]
  },
  {
   "cell_type": "code",
   "execution_count": 184,
   "metadata": {},
   "outputs": [
    {
     "name": "stdout",
     "output_type": "stream",
     "text": [
      "Напишите функцию, которая будет удалять все последовательные повторы слов из заданной строки при помощи регулярных выражений\n"
     ]
    }
   ],
   "source": [
    "###Задание 2\n",
    "some_string = 'Напишите функцию функцию, которая будет будет будет будет удалять все все все все последовательные повторы слов из из из из заданной строки строки при помощи регулярных выражений'\n",
    "some_string2 = re.sub(r'(\\w+)\\s\\1', r'\\1', re.sub(r'(\\w+)\\s\\1', r'\\1', some_string))\n",
    "print (some_string2)"
   ]
  },
  {
   "cell_type": "code",
   "execution_count": 222,
   "metadata": {},
   "outputs": [
    {
     "name": "stdout",
     "output_type": "stream",
     "text": [
      "NFC\n"
     ]
    }
   ],
   "source": [
    "###Задание 3\n",
    "#some_words = 'Информационные технологии'\n",
    "def acronym_def (some_words):\n",
    "    first_letter = re.sub(r'(\\w)\\w+', r'\\1', some_words)\n",
    "    acronum = re.sub(r'\\s', \"\", first_letter)\n",
    "    print (acronum)\n",
    "\n",
    "acronym_def('Near Field Communication')"
   ]
  },
  {
   "cell_type": "code",
   "execution_count": 245,
   "metadata": {},
   "outputs": [
    {
     "name": "stdout",
     "output_type": "stream",
     "text": [
      "gmail.com: 2\n",
      "test.in: 1\n",
      "ya.ru: 2\n",
      "mail.ru: 1\n"
     ]
    }
   ],
   "source": [
    "###Задание4\n",
    "emails = ['test@gmail.com', 'xyz@test.in', 'test@ya.ru', 'xyz@mail.ru', 'xyz@ya.ru', 'xyz@gmail.com']\n",
    "gmail_pattern = r'\\w+\\@gmail.com'\n",
    "test_pattern = r'\\w+\\@test.in'\n",
    "ya_pattern = r'\\w+\\@ya.ru'\n",
    "mail_pattern = r'\\w+\\@mail.ru'\n",
    "gmail = 0\n",
    "test = 0\n",
    "ya = 0\n",
    "mail = 0\n",
    "for mail_adresses in emails:\n",
    "    if re.findall(gmail_pattern, mail_adresses) != []:\n",
    "        gmail +=1\n",
    "    if re.findall(test_pattern, mail_adresses):\n",
    "        test +=1\n",
    "    if re.findall(ya_pattern, mail_adresses):\n",
    "        ya +=1\n",
    "    if re.findall(mail_pattern, mail_adresses):\n",
    "        mail +=1\n",
    "print(f'gmail.com: {gmail}\\n'\n",
    "      f'test.in: {test}\\n'\n",
    "      f'ya.ru: {ya}\\n'\n",
    "      f'mail.ru: {mail}')\n",
    "\n",
    "    "
   ]
  },
  {
   "cell_type": "code",
   "execution_count": 262,
   "metadata": {},
   "outputs": [
    {
     "name": "stdout",
     "output_type": "stream",
     "text": [
      "Слов на гласные буквы:  9\n",
      "Слов на согласные буквы:  20\n"
     ]
    }
   ],
   "source": [
    "###Задание 5\n",
    "some_text = 'Эталонной реализацией Python является интерпретатор CPython, поддерживающий большинство активно используемых платформ. Он распространяется под свободной лицензией Python Software Foundation License, позволяющей использовать его без ограничений в любых приложениях, включая проприетарные.'\n",
    "vowel_letter = re.findall(r'\\b[а,е,ё,и,о,у,э,ю,я,a,e,i,o,u,y,А,Е,Ё,И,О,У,Э,Ю,Я,A,E,I,O,U,Y]\\w+\\b', some_text)\n",
    "consonant_letter = re.findall(r'\\b[б,Б,в,В,г,Г,д,Д,ж,Ж,з,З,к,К,й,Й,л,Л,м,М,н,Н,п,П,р,Р,с,С,т,Т,ф,Ф,х,Х,ц,Ц,ч,Ч,ш,Ш,щ,Щ,b,B,c,C,d,D,f,F,g,G,h,H,j,J,k,K,l,L,m,M,n,N,p,P,q,Q,r,R,s,S,t,T,v,V,w,W,x,X,z,Z]\\w+\\b', some_text)\n",
    "print('Слов на гласные буквы: ', len(vowel_letter))\n",
    "print('Слов на согласные буквы: ', len(consonant_letter))"
   ]
  }
 ],
 "metadata": {
  "kernelspec": {
   "display_name": "Python 3",
   "language": "python",
   "name": "python3"
  },
  "language_info": {
   "codemirror_mode": {
    "name": "ipython",
    "version": 3
   },
   "file_extension": ".py",
   "mimetype": "text/x-python",
   "name": "python",
   "nbconvert_exporter": "python",
   "pygments_lexer": "ipython3",
   "version": "3.8.5"
  }
 },
 "nbformat": 4,
 "nbformat_minor": 4
}
