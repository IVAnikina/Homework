{
 "cells": [
  {
   "cell_type": "code",
   "execution_count": 3,
   "metadata": {},
   "outputs": [],
   "source": [
    "documents = [\n",
    " {'type': 'passport', 'number': '2207 876234', 'name': 'Василий Гупкин'},\n",
    " {'type': 'invoice', 'number': '11-2', 'name': 'Геннадий Покемонов'},\n",
    " {'type': 'insurance', 'number': '10006', 'name': 'Аристарх Павлов'}\n",
    "]\n",
    "\n",
    "directories = {\n",
    " '1': ['2207 876234', '11-2'],\n",
    " '2': ['10006'],\n",
    " '3': []\n",
    "}\n"
   ]
  },
  {
   "cell_type": "code",
   "execution_count": null,
   "metadata": {},
   "outputs": [],
   "source": [
    "# Команда p - узнать владельца по номеру документа\n",
    "def dock_owner(doc_number):\n",
    "    for doc in documents: #проходим по всем значениям списка documents\n",
    "        if doc['number'] == str(doc_number): #если значение по номера документа равно нашей переменной, то\n",
    "            return(f'Владелец документа: ' + doc['name'])\n",
    "    return('Документ не найден в базе') #если такой номер документа не найден\n",
    "#dock_owner(input('Введите номер документа: '))"
   ]
  },
  {
   "cell_type": "code",
   "execution_count": 20,
   "metadata": {},
   "outputs": [
    {
     "name": "stdout",
     "output_type": "stream",
     "text": [
      "Введите номер документа: 10006\n"
     ]
    },
    {
     "data": {
      "text/plain": [
       "'Документ хранится на полке: 2'"
      ]
     },
     "execution_count": 20,
     "metadata": {},
     "output_type": "execute_result"
    }
   ],
   "source": [
    "# Команда s - по номеру документа узнать на какой полке хранится\n",
    "def directories_number(doc_number):\n",
    "    for shelf, docks in directories.items(): #проходим по всем ключам и значениям словаря directories\n",
    "        if doc_number in directories[shelf]: #если номер документа входит в список документов на полке, то\n",
    "            return(f'Документ хранится на полке: ' + shelf)\n",
    "    return('Документ не найден в базе') #если такой номер документа не найден\n",
    "\n",
    "#directories_number(input('Введите номер документа: '))"
   ]
  },
  {
   "cell_type": "code",
   "execution_count": 21,
   "metadata": {},
   "outputs": [
    {
     "name": "stdout",
     "output_type": "stream",
     "text": [
      " № 2207 876234, тип passport, владелец Василий Гупкин, полка хранения: Документ хранится на полке: 1\n",
      " № 11-2, тип invoice, владелец Геннадий Покемонов, полка хранения: Документ хранится на полке: 1\n",
      " № 10006, тип insurance, владелец Аристарх Павлов, полка хранения: Документ хранится на полке: 2\n",
      " № 42, тип multipasport, владелец r2d2, полка хранения: Документ хранится на полке: 3\n"
     ]
    }
   ],
   "source": [
    "# Команда l - полная инфо о документах: номер, тип, владелец, полка хранения\n",
    "def doc_info(doc):\n",
    "    for doc in documents:\n",
    "        print(f\" № {doc['number']}, тип {doc['type']}, владелец {doc['name']}, полка хранения: {directories_number(doc['number'])}\")\n",
    "\n",
    "#doc_info(documents)\n"
   ]
  },
  {
   "cell_type": "code",
   "execution_count": null,
   "metadata": {},
   "outputs": [],
   "source": [
    "# Команда as - добавляет новую полку\n",
    "def add_shelf(direct_number):\n",
    "    if direct_number not in directories.keys(): #если переменная 'номер директории' нет в ключах - номерах полках, то\n",
    "        directories[direct_number]=[] #добавляем полку в словарь директорий\n",
    "        return(f\"Полка добавлена. Текущий перечень полок: {','.join(list(directories.keys()))}\")\n",
    "    return(f\"Такая полка уже существует. Текущий перечень полок: {','.join(list(directories.keys()))}\") #если полка уже существует\n",
    "\n",
    "#add_shelf(str(input('Введите номер полки:')))"
   ]
  },
  {
   "cell_type": "code",
   "execution_count": null,
   "metadata": {},
   "outputs": [],
   "source": [
    "# Команда ds - удаляет полку если она пустая\n",
    "def del_shelf(direct_number):\n",
    "    if direct_number in directories.keys():\n",
    "        if directories[direct_number] == []:\n",
    "            del(directories[direct_number])\n",
    "            return(f\"Полка удалена. Текущий перечень полок: {','.join(list(directories.keys()))}\")\n",
    "        return(f\"На полке есть документы, удалите их перед удалением полки. Текущий перечень полок: {','.join(list(directories.keys()))}\")\n",
    "    return(f\"Такой полки не существует. Текущий перечень полок: {','.join(list(directories.keys()))}\")\n",
    "\n",
    "del_sheif(str(input('Введите номер полки:')))"
   ]
  },
  {
   "cell_type": "code",
   "execution_count": null,
   "metadata": {},
   "outputs": [],
   "source": [
    "# Команда ad - добавляет новый документ\n",
    "def new_doc_add(new_doc_number, new_doc_type, new_doc_owner, doc_shelf):\n",
    "    if doc_shelf in directories.keys():\n",
    "        new_doc={'type': new_doc_type, 'number': new_doc_number, 'name': new_doc_owner}\n",
    "        documents.append(new_doc)\n",
    "        directories[doc_shelf].append(new_doc_number)\n",
    "        return(f'Документ добавлен. Текущий список документов: {doc_info(documents)}')\n",
    "    return(f'Такой полки не существует. Добавьте полку командой as. Текущий список документов: {doc_info(documents)}')\n",
    "#new_doc_add(new_doc_number, new_doc_type, new_doc_owner, doc_shelf)"
   ]
  },
  {
   "cell_type": "code",
   "execution_count": null,
   "metadata": {},
   "outputs": [],
   "source": [
    "command = input('Введите команду: ')\n",
    "if command == 'p':\n",
    "    doc_number = input('Введите номер документа: ')\n",
    "    print(dock_owner(doc_number))\n",
    "elif command == 's':\n",
    "    doc_number = input('Введите номер документа: ')\n",
    "    print(directories_number(doc_number))\n",
    "elif command == 'l':\n",
    "    doc_info(documents)\n",
    "elif command == 'as':\n",
    "    direct_number = (input('Введите номер полки:'))\n",
    "    print(add_shelf(direct_number))\n",
    "elif command == 'ds':\n",
    "    direct_number = (input('Введите номер полки:'))\n",
    "    print(del_shelf(direct_number))\n",
    "elif command == 'ad':\n",
    "    new_doc_number = input('Введите номер документа: ')\n",
    "    new_doc_type = input('Введите тип документа: ')\n",
    "    new_doc_owner = input('Введите владельца документа: ')\n",
    "    doc_shelf = input('Введите полку для хранения:')\n",
    "    print(new_doc_add(new_doc_number, new_doc_type, new_doc_owner, doc_shelf))\n",
    "else:\n",
    "    print('нет такой команды')"
   ]
  }
 ],
 "metadata": {
  "kernelspec": {
   "display_name": "Python 3",
   "language": "python",
   "name": "python3"
  }
 },
 "nbformat": 4,
 "nbformat_minor": 4
}
